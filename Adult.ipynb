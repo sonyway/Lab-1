{
 "cells": [
  {
   "cell_type": "code",
   "execution_count": 1,
   "metadata": {},
   "outputs": [],
   "source": [
    "import pandas as pd\n",
    "import numpy as np\n",
    "import matplotlib.pyplot as plt\n",
    "import math\n"
   ]
  },
  {
   "cell_type": "code",
   "execution_count": 2,
   "metadata": {},
   "outputs": [
    {
     "data": {
      "text/html": [
       "<div>\n",
       "<style scoped>\n",
       "    .dataframe tbody tr th:only-of-type {\n",
       "        vertical-align: middle;\n",
       "    }\n",
       "\n",
       "    .dataframe tbody tr th {\n",
       "        vertical-align: top;\n",
       "    }\n",
       "\n",
       "    .dataframe thead th {\n",
       "        text-align: right;\n",
       "    }\n",
       "</style>\n",
       "<table border=\"1\" class=\"dataframe\">\n",
       "  <thead>\n",
       "    <tr style=\"text-align: right;\">\n",
       "      <th></th>\n",
       "      <th>39</th>\n",
       "      <th>State-gov</th>\n",
       "      <th>77516</th>\n",
       "      <th>Bachelors</th>\n",
       "      <th>13</th>\n",
       "      <th>Never-married</th>\n",
       "      <th>Adm-clerical</th>\n",
       "      <th>Not-in-family</th>\n",
       "      <th>White</th>\n",
       "      <th>Male</th>\n",
       "      <th>2174</th>\n",
       "      <th>0</th>\n",
       "      <th>40</th>\n",
       "      <th>United-States</th>\n",
       "      <th>&lt;=50K</th>\n",
       "    </tr>\n",
       "  </thead>\n",
       "  <tbody>\n",
       "    <tr>\n",
       "      <th>0</th>\n",
       "      <td>50</td>\n",
       "      <td>Self-emp-not-inc</td>\n",
       "      <td>83311</td>\n",
       "      <td>Bachelors</td>\n",
       "      <td>13</td>\n",
       "      <td>Married-civ-spouse</td>\n",
       "      <td>Exec-managerial</td>\n",
       "      <td>Husband</td>\n",
       "      <td>White</td>\n",
       "      <td>Male</td>\n",
       "      <td>0</td>\n",
       "      <td>0</td>\n",
       "      <td>13</td>\n",
       "      <td>United-States</td>\n",
       "      <td>&lt;=50K</td>\n",
       "    </tr>\n",
       "    <tr>\n",
       "      <th>1</th>\n",
       "      <td>38</td>\n",
       "      <td>Private</td>\n",
       "      <td>215646</td>\n",
       "      <td>HS-grad</td>\n",
       "      <td>9</td>\n",
       "      <td>Divorced</td>\n",
       "      <td>Handlers-cleaners</td>\n",
       "      <td>Not-in-family</td>\n",
       "      <td>White</td>\n",
       "      <td>Male</td>\n",
       "      <td>0</td>\n",
       "      <td>0</td>\n",
       "      <td>40</td>\n",
       "      <td>United-States</td>\n",
       "      <td>&lt;=50K</td>\n",
       "    </tr>\n",
       "    <tr>\n",
       "      <th>2</th>\n",
       "      <td>53</td>\n",
       "      <td>Private</td>\n",
       "      <td>234721</td>\n",
       "      <td>11th</td>\n",
       "      <td>7</td>\n",
       "      <td>Married-civ-spouse</td>\n",
       "      <td>Handlers-cleaners</td>\n",
       "      <td>Husband</td>\n",
       "      <td>Black</td>\n",
       "      <td>Male</td>\n",
       "      <td>0</td>\n",
       "      <td>0</td>\n",
       "      <td>40</td>\n",
       "      <td>United-States</td>\n",
       "      <td>&lt;=50K</td>\n",
       "    </tr>\n",
       "    <tr>\n",
       "      <th>3</th>\n",
       "      <td>28</td>\n",
       "      <td>Private</td>\n",
       "      <td>338409</td>\n",
       "      <td>Bachelors</td>\n",
       "      <td>13</td>\n",
       "      <td>Married-civ-spouse</td>\n",
       "      <td>Prof-specialty</td>\n",
       "      <td>Wife</td>\n",
       "      <td>Black</td>\n",
       "      <td>Female</td>\n",
       "      <td>0</td>\n",
       "      <td>0</td>\n",
       "      <td>40</td>\n",
       "      <td>Cuba</td>\n",
       "      <td>&lt;=50K</td>\n",
       "    </tr>\n",
       "    <tr>\n",
       "      <th>4</th>\n",
       "      <td>37</td>\n",
       "      <td>Private</td>\n",
       "      <td>284582</td>\n",
       "      <td>Masters</td>\n",
       "      <td>14</td>\n",
       "      <td>Married-civ-spouse</td>\n",
       "      <td>Exec-managerial</td>\n",
       "      <td>Wife</td>\n",
       "      <td>White</td>\n",
       "      <td>Female</td>\n",
       "      <td>0</td>\n",
       "      <td>0</td>\n",
       "      <td>40</td>\n",
       "      <td>United-States</td>\n",
       "      <td>&lt;=50K</td>\n",
       "    </tr>\n",
       "  </tbody>\n",
       "</table>\n",
       "</div>"
      ],
      "text/plain": [
       "   39          State-gov   77516   Bachelors   13        Never-married  \\\n",
       "0  50   Self-emp-not-inc   83311   Bachelors   13   Married-civ-spouse   \n",
       "1  38            Private  215646     HS-grad    9             Divorced   \n",
       "2  53            Private  234721        11th    7   Married-civ-spouse   \n",
       "3  28            Private  338409   Bachelors   13   Married-civ-spouse   \n",
       "4  37            Private  284582     Masters   14   Married-civ-spouse   \n",
       "\n",
       "         Adm-clerical   Not-in-family   White     Male   2174   0   40  \\\n",
       "0     Exec-managerial         Husband   White     Male      0   0   13   \n",
       "1   Handlers-cleaners   Not-in-family   White     Male      0   0   40   \n",
       "2   Handlers-cleaners         Husband   Black     Male      0   0   40   \n",
       "3      Prof-specialty            Wife   Black   Female      0   0   40   \n",
       "4     Exec-managerial            Wife   White   Female      0   0   40   \n",
       "\n",
       "    United-States   <=50K  \n",
       "0   United-States   <=50K  \n",
       "1   United-States   <=50K  \n",
       "2   United-States   <=50K  \n",
       "3            Cuba   <=50K  \n",
       "4   United-States   <=50K  "
      ]
     },
     "execution_count": 2,
     "metadata": {},
     "output_type": "execute_result"
    }
   ],
   "source": [
    "file = 'adult.csv'\n",
    "df = pd.read_csv(file)\n",
    "df.head(5)"
   ]
  },
  {
   "cell_type": "code",
   "execution_count": 3,
   "metadata": {},
   "outputs": [
    {
     "name": "stdout",
     "output_type": "stream",
     "text": [
      "['39', ' State-gov', ' 77516', ' Bachelors', ' 13', ' Never-married', ' Adm-clerical', ' Not-in-family', ' White', ' Male', ' 2174', ' 0', ' 40', ' United-States', ' <=50K']\n"
     ]
    }
   ],
   "source": [
    "names = list(df.columns)\n",
    "print(names)"
   ]
  },
  {
   "cell_type": "code",
   "execution_count": 4,
   "metadata": {},
   "outputs": [
    {
     "name": "stdout",
     "output_type": "stream",
     "text": [
      "39                 int64\n",
      " State-gov        object\n",
      " 77516             int64\n",
      " Bachelors        object\n",
      " 13                int64\n",
      " Never-married    object\n",
      " Adm-clerical     object\n",
      " Not-in-family    object\n",
      " White            object\n",
      " Male             object\n",
      " 2174              int64\n",
      " 0                 int64\n",
      " 40                int64\n",
      " United-States    object\n",
      " <=50K            object\n",
      "dtype: object\n"
     ]
    }
   ],
   "source": [
    "types = df.dtypes\n",
    "print(types)"
   ]
  },
  {
   "cell_type": "code",
   "execution_count": 5,
   "metadata": {},
   "outputs": [
    {
     "name": "stdout",
     "output_type": "stream",
     "text": [
      "[2 2 1 0]\n"
     ]
    }
   ],
   "source": [
    "from sklearn.preprocessing import LabelEncoder \n",
    "le = LabelEncoder()\n",
    "a = ['lan','lan','hung','diep']\n",
    "le.fit_transform(a)\n",
    "b = le.transform(a)\n",
    "print(b)"
   ]
  },
  {
   "cell_type": "code",
   "execution_count": 6,
   "metadata": {},
   "outputs": [],
   "source": [
    "from sklearn.preprocessing import LabelEncoder \n",
    "le = LabelEncoder()\n",
    "for i in range(len(types)):\n",
    "  if types[i]=='object':\n",
    "    le.fit_transform(df[names[i]])\n",
    "    df[names[i]] = le.transform(df[names[i]])"
   ]
  },
  {
   "cell_type": "code",
   "execution_count": 7,
   "metadata": {},
   "outputs": [
    {
     "name": "stdout",
     "output_type": "stream",
     "text": [
      "(32560, 14)\n",
      "(32560,)\n"
     ]
    }
   ],
   "source": [
    "data = df.values\n",
    "X = data[:,:-1]\n",
    "y = data[:,-1]\n",
    "print(X.shape)\n",
    "print(y.shape)"
   ]
  },
  {
   "cell_type": "code",
   "execution_count": 8,
   "metadata": {},
   "outputs": [
    {
     "name": "stdout",
     "output_type": "stream",
     "text": [
      "[0.45205479 0.75       0.0482376  0.6        0.8        0.33333333\n",
      " 0.28571429 0.         1.         1.         0.         0.\n",
      " 0.12244898 0.95121951]\n"
     ]
    }
   ],
   "source": [
    "from sklearn.preprocessing import MinMaxScaler\n",
    "scaler = MinMaxScaler()\n",
    "scaler.fit(X)\n",
    "X_scaled = scaler.transform(X)\n",
    "print(X_scaled[0])"
   ]
  },
  {
   "cell_type": "code",
   "execution_count": 9,
   "metadata": {},
   "outputs": [
    {
     "name": "stdout",
     "output_type": "stream",
     "text": [
      "(26048, 14)\n",
      "(6512, 14)\n",
      "(26048,)\n",
      "(6512,)\n"
     ]
    }
   ],
   "source": [
    "from sklearn.model_selection import train_test_split\n",
    "X_train, X_test, y_train, y_test = train_test_split(X_scaled, y, test_size=0.2, random_state=42)\n",
    "print(X_train.shape)\n",
    "print(X_test.shape)\n",
    "print(y_train.shape)\n",
    "print(y_test.shape)\n"
   ]
  },
  {
   "attachments": {},
   "cell_type": "markdown",
   "metadata": {},
   "source": [
    "Apply backpropagation algorithm with for training a MLP for classification using Cross Entropy Cost function "
   ]
  },
  {
   "cell_type": "code",
   "execution_count": 10,
   "metadata": {},
   "outputs": [],
   "source": [
    "# Apply backpropagation algorithms for training a MLP for classification using Cross-Entropy Cost function\n",
    "\n",
    "def sigmoid(x):\n",
    "  return 1/(1+np.exp(-x))\n",
    "\n",
    "def sigmoid_derivative(x):\n",
    "    return x*(1-x)\n",
    "\n",
    "class NeuralNetwork_Classification:\n",
    "    def __init__(self, layers, alpha=0.1):\n",
    "\t\t\n",
    "      self.layers = layers \n",
    "      \n",
    "      # Learning rate\n",
    "      self.alpha = alpha\n",
    "\t\t\n",
    "      # W, b\n",
    "      self.W = []\n",
    "      self.b = []\n",
    "      \n",
    "      # Wegihts and Bias in each layer\n",
    "      for i in range(0, len(layers)-1):\n",
    "            w_ = np.random.randn(layers[i], layers[i+1]) # weight\n",
    "            b_ = np.zeros((layers[i+1], 1)) # bias\n",
    "            self.W.append(w_/layers[i])\n",
    "            self.b.append(b_)\n",
    "            \n",
    "    \n",
    "\t\n",
    "\t# Train model\n",
    "    def fit_partial(self, x, y):\n",
    "        A = [x]\n",
    "        \n",
    "        # Feedforward\n",
    "        out = A[-1]\n",
    "        for i in range(0, len(self.layers) - 1):\n",
    "            out = sigmoid(np.dot(out, self.W[i]) + (self.b[i].T))\n",
    "            A.append(out)\n",
    "        \n",
    "        # Backpropagation\n",
    "        y = y.reshape(-1, 1)\n",
    "        dA = [-(y/A[-1] - (1-y)/(1-A[-1]))]\n",
    "        dW = []\n",
    "        db = []\n",
    "        for i in reversed(range(0, len(self.layers)-1)):\n",
    "            dw_ = np.dot((A[i]).T, dA[-1] * sigmoid_derivative(A[i+1]))\n",
    "            db_ = (np.sum(dA[-1] * sigmoid_derivative(A[i+1]), 0)).reshape(-1,1)\n",
    "            dA_ = np.dot(dA[-1] * sigmoid_derivative(A[i+1]), self.W[i].T)\n",
    "            dW.append(dw_)\n",
    "            db.append(db_)\n",
    "            dA.append(dA_)\n",
    "        \n",
    "        # Inverted dW, db\n",
    "        dW = dW[::-1]\n",
    "        db = db[::-1]\n",
    "        \n",
    "\t\t# Gradient descent\n",
    "        for i in range(0, len(self.layers)-1):\n",
    "            self.W[i] = self.W[i] - self.alpha * dW[i]\n",
    "            self.b[i] = self.b[i] - self.alpha * db[i]\n",
    "      \n",
    "    def fit(self, X, y, epochs=20, verbose=10):\n",
    "        for epoch in range(0, epochs):\n",
    "            self.fit_partial(X, y)\n",
    "            if epoch % verbose == 0:\n",
    "                loss = self.calculate_loss(y, self.predict(X))\n",
    "                print(\"Epoch {}, loss {}\".format(epoch, loss))\n",
    "    \n",
    "\t# Prediction\n",
    "    def predict(self, X):\n",
    "        for i in range(0, len(self.layers) - 1):\n",
    "            X = sigmoid(np.dot(X, self.W[i]) + (self.b[i].T))\n",
    "        return X\n",
    "\n",
    "\t# Cross entropy loss function\n",
    "    def calculate_loss(self, y, y_pre):\n",
    "      loss=-np.sum(y*np.log(y_pre))\n",
    "      return loss/float(y_pre.shape[0])\n",
    "        \n"
   ]
  },
  {
   "cell_type": "code",
   "execution_count": 11,
   "metadata": {},
   "outputs": [
    {
     "name": "stderr",
     "output_type": "stream",
     "text": [
      "C:\\Users\\ASUS\\AppData\\Local\\Temp\\ipykernel_15004\\1775882698.py:4: RuntimeWarning: overflow encountered in exp\n",
      "  return 1/(1+np.exp(-x))\n",
      "C:\\Users\\ASUS\\AppData\\Local\\Temp\\ipykernel_15004\\1775882698.py:77: RuntimeWarning: divide by zero encountered in log\n",
      "  loss=-np.sum(y*np.log(y_pre))\n",
      "C:\\Users\\ASUS\\AppData\\Local\\Temp\\ipykernel_15004\\1775882698.py:77: RuntimeWarning: invalid value encountered in multiply\n",
      "  loss=-np.sum(y*np.log(y_pre))\n"
     ]
    },
    {
     "name": "stdout",
     "output_type": "stream",
     "text": [
      "Epoch 0, loss nan\n"
     ]
    },
    {
     "name": "stderr",
     "output_type": "stream",
     "text": [
      "C:\\Users\\ASUS\\AppData\\Local\\Temp\\ipykernel_15004\\1775882698.py:42: RuntimeWarning: divide by zero encountered in true_divide\n",
      "  dA = [-(y/A[-1] - (1-y)/(1-A[-1]))]\n",
      "C:\\Users\\ASUS\\AppData\\Local\\Temp\\ipykernel_15004\\1775882698.py:42: RuntimeWarning: invalid value encountered in true_divide\n",
      "  dA = [-(y/A[-1] - (1-y)/(1-A[-1]))]\n",
      "C:\\Users\\ASUS\\AppData\\Local\\Temp\\ipykernel_15004\\1775882698.py:46: RuntimeWarning: invalid value encountered in multiply\n",
      "  dw_ = np.dot((A[i]).T, dA[-1] * sigmoid_derivative(A[i+1]))\n",
      "C:\\Users\\ASUS\\AppData\\Local\\Temp\\ipykernel_15004\\1775882698.py:47: RuntimeWarning: invalid value encountered in multiply\n",
      "  db_ = (np.sum(dA[-1] * sigmoid_derivative(A[i+1]), 0)).reshape(-1,1)\n",
      "C:\\Users\\ASUS\\AppData\\Local\\Temp\\ipykernel_15004\\1775882698.py:48: RuntimeWarning: invalid value encountered in multiply\n",
      "  dA_ = np.dot(dA[-1] * sigmoid_derivative(A[i+1]), self.W[i].T)\n"
     ]
    },
    {
     "name": "stdout",
     "output_type": "stream",
     "text": [
      "Epoch 10, loss nan\n",
      "Epoch 20, loss nan\n",
      "Epoch 30, loss nan\n",
      "Epoch 40, loss nan\n",
      "Epoch 50, loss nan\n",
      "Epoch 60, loss nan\n",
      "Epoch 70, loss nan\n",
      "Epoch 80, loss nan\n",
      "Epoch 90, loss nan\n"
     ]
    }
   ],
   "source": [
    "# Train model\n",
    "nn = NeuralNetwork_Classification([X_train.shape[1], 32, 1], alpha=0.1)\n",
    "nn.fit(X_train, y_train, epochs=100, verbose=10)\n",
    "    "
   ]
  },
  {
   "cell_type": "code",
   "execution_count": 12,
   "metadata": {},
   "outputs": [
    {
     "name": "stdout",
     "output_type": "stream",
     "text": [
      "(6512, 1)\n",
      "(6512,)\n"
     ]
    }
   ],
   "source": [
    "# Prediction\n",
    "y_pre = nn.predict(X_test)\n",
    "y_pre = y_pre.reshape(-1,1)\n",
    "y_pre = (y_pre>0.5).astype(int)\n",
    "print(y_pre.shape)\n",
    "print(y_test.shape)\n",
    "    "
   ]
  },
  {
   "cell_type": "code",
   "execution_count": 13,
   "metadata": {},
   "outputs": [
    {
     "name": "stdout",
     "output_type": "stream",
     "text": [
      "0.7542997542997543\n"
     ]
    }
   ],
   "source": [
    "# Accuracy\n",
    "from sklearn.metrics import accuracy_score\n",
    "print(\"Accuracy score: \",accuracy_score(y_test, y_pre))"
   ]
  }
 ],
 "metadata": {
  "kernelspec": {
   "display_name": "Python 3",
   "language": "python",
   "name": "python3"
  },
  "language_info": {
   "codemirror_mode": {
    "name": "ipython",
    "version": 3
   },
   "file_extension": ".py",
   "mimetype": "text/x-python",
   "name": "python",
   "nbconvert_exporter": "python",
   "pygments_lexer": "ipython3",
   "version": "3.9.7 (tags/v3.9.7:1016ef3, Aug 30 2021, 20:19:38) [MSC v.1929 64 bit (AMD64)]"
  },
  "orig_nbformat": 4,
  "vscode": {
   "interpreter": {
    "hash": "14958d3aee5f1cad06795f787e54b96185c25fb40dfec723a5be941f3a531b8c"
   }
  }
 },
 "nbformat": 4,
 "nbformat_minor": 2
}
